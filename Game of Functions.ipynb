{
 "cells": [
  {
   "cell_type": "code",
   "execution_count": 18,
   "id": "b0a903ef",
   "metadata": {},
   "outputs": [
    {
     "data": {
      "text/plain": [
       "20"
      ]
     },
     "execution_count": 18,
     "metadata": {},
     "output_type": "execute_result"
    }
   ],
   "source": [
    "def Sum_of_numbers(*numbers):\n",
    "    sumi=0\n",
    "    for i in numbers:\n",
    "        sumi=sumi+i\n",
    "    return sumi\n",
    "Sum_of_numbers(8,2,3,0,7)\n"
   ]
  },
  {
   "cell_type": "code",
   "execution_count": null,
   "id": "f4af3ccb",
   "metadata": {},
   "outputs": [],
   "source": []
  }
 ],
 "metadata": {
  "kernelspec": {
   "display_name": "Python 3 (ipykernel)",
   "language": "python",
   "name": "python3"
  },
  "language_info": {
   "codemirror_mode": {
    "name": "ipython",
    "version": 3
   },
   "file_extension": ".py",
   "mimetype": "text/x-python",
   "name": "python",
   "nbconvert_exporter": "python",
   "pygments_lexer": "ipython3",
   "version": "3.10.1"
  }
 },
 "nbformat": 4,
 "nbformat_minor": 5
}
